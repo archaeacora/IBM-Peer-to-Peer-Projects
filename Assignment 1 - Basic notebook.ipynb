{
 "cells": [
  {
   "cell_type": "markdown",
   "id": "0ff2fe15",
   "metadata": {},
   "source": [
    "# My Jupyter Notebook on IBM Watson Studio\n"
   ]
  },
  {
   "cell_type": "markdown",
   "id": "32ac4c49",
   "metadata": {},
   "source": [
    "**Christopher Brandão Gonçalves Camilo** \n",
    "_Data Analyst_\n"
   ]
  },
  {
   "cell_type": "markdown",
   "id": "da3eda2b",
   "metadata": {},
   "source": [
    "_I am interested in data science because I love working with artificial intelligence projects and algorithms_"
   ]
  },
  {
   "cell_type": "markdown",
   "id": "bb33067a",
   "metadata": {},
   "source": [
    "### The code below says \"Hello world\"\n"
   ]
  },
  {
   "cell_type": "code",
   "execution_count": 2,
   "id": "8cd2691b",
   "metadata": {},
   "outputs": [
    {
     "name": "stdout",
     "output_type": "stream",
     "text": [
      "Hello world\n"
     ]
    }
   ],
   "source": [
    "print(\"Hello world\")"
   ]
  },
  {
   "cell_type": "markdown",
   "id": "51bbc22c",
   "metadata": {},
   "source": [
    "*********\n",
    "> This is a block quote\n",
    "* Unordered list item 1\n",
    "- Or minuses\n",
    "+ Or pluses"
   ]
  }
 ],
 "metadata": {
  "kernelspec": {
   "display_name": "Python 3 (ipykernel)",
   "language": "python",
   "name": "python3"
  },
  "language_info": {
   "codemirror_mode": {
    "name": "ipython",
    "version": 3
   },
   "file_extension": ".py",
   "mimetype": "text/x-python",
   "name": "python",
   "nbconvert_exporter": "python",
   "pygments_lexer": "ipython3",
   "version": "3.7.6"
  }
 },
 "nbformat": 4,
 "nbformat_minor": 5
}
